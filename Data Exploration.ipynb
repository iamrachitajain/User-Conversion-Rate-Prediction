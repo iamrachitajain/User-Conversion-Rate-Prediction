{
 "cells": [
  {
   "cell_type": "code",
   "execution_count": 12,
   "metadata": {},
   "outputs": [],
   "source": [
    "import numpy as np\n",
    "import pandas as pd\n",
    "from sklearn import metrics\n",
    "import seaborn as sns\n",
    "import matplotlib.pyplot as plt"
   ]
  },
  {
   "cell_type": "code",
   "execution_count": 1,
   "metadata": {},
   "outputs": [],
   "source": [
    "# Read in csv file :\n",
    "pd.set_option('display.max_columns', None)\n",
    "pd.set_option('display.expand_frame_repr', False)\n",
    "pd.set_option('max_colwidth', -1)\n",
    "metrics_data = pd.read_csv('/Users/rachitajain/Desktop/Viacom/data/key_metrics_data_file.csv')\n",
    "products_data = pd.read_csv('/Users/rachitajain/Desktop/Viacom/data/products_data_file.csv')"
   ]
  },
  {
   "cell_type": "code",
   "execution_count": 4,
   "metadata": {},
   "outputs": [
    {
     "data": {
      "text/html": [
       "<div>\n",
       "<style scoped>\n",
       "    .dataframe tbody tr th:only-of-type {\n",
       "        vertical-align: middle;\n",
       "    }\n",
       "\n",
       "    .dataframe tbody tr th {\n",
       "        vertical-align: top;\n",
       "    }\n",
       "\n",
       "    .dataframe thead th {\n",
       "        text-align: right;\n",
       "    }\n",
       "</style>\n",
       "<table border=\"1\" class=\"dataframe\">\n",
       "  <thead>\n",
       "    <tr style=\"text-align: right;\">\n",
       "      <th></th>\n",
       "      <th>date</th>\n",
       "      <th>page_views</th>\n",
       "      <th>visits</th>\n",
       "      <th>unique_visitors</th>\n",
       "      <th>bounce_rate</th>\n",
       "    </tr>\n",
       "  </thead>\n",
       "  <tbody>\n",
       "    <tr>\n",
       "      <td>0</td>\n",
       "      <td>(2012,01,01)</td>\n",
       "      <td>0</td>\n",
       "      <td>0</td>\n",
       "      <td>0</td>\n",
       "      <td>inf</td>\n",
       "    </tr>\n",
       "    <tr>\n",
       "      <td>1</td>\n",
       "      <td>(2012,01,02)</td>\n",
       "      <td>0</td>\n",
       "      <td>0</td>\n",
       "      <td>0</td>\n",
       "      <td>inf</td>\n",
       "    </tr>\n",
       "    <tr>\n",
       "      <td>2</td>\n",
       "      <td>(2012,01,03)</td>\n",
       "      <td>0</td>\n",
       "      <td>0</td>\n",
       "      <td>0</td>\n",
       "      <td>inf</td>\n",
       "    </tr>\n",
       "    <tr>\n",
       "      <td>3</td>\n",
       "      <td>(2012,01,04)</td>\n",
       "      <td>0</td>\n",
       "      <td>0</td>\n",
       "      <td>0</td>\n",
       "      <td>inf</td>\n",
       "    </tr>\n",
       "    <tr>\n",
       "      <td>4</td>\n",
       "      <td>(2012,01,05)</td>\n",
       "      <td>0</td>\n",
       "      <td>0</td>\n",
       "      <td>0</td>\n",
       "      <td>inf</td>\n",
       "    </tr>\n",
       "  </tbody>\n",
       "</table>\n",
       "</div>"
      ],
      "text/plain": [
       "           date  page_views  visits  unique_visitors  bounce_rate\n",
       "0  (2012,01,01)  0           0       0                inf        \n",
       "1  (2012,01,02)  0           0       0                inf        \n",
       "2  (2012,01,03)  0           0       0                inf        \n",
       "3  (2012,01,04)  0           0       0                inf        \n",
       "4  (2012,01,05)  0           0       0                inf        "
      ]
     },
     "execution_count": 4,
     "metadata": {},
     "output_type": "execute_result"
    }
   ],
   "source": [
    "metrics_data.head()"
   ]
  },
  {
   "cell_type": "markdown",
   "metadata": {},
   "source": [
    "Check for Null values"
   ]
  },
  {
   "cell_type": "code",
   "execution_count": 23,
   "metadata": {},
   "outputs": [
    {
     "data": {
      "text/plain": [
       "date               0\n",
       "page_views         0\n",
       "visits             0\n",
       "unique_visitors    0\n",
       "bounce_rate        0\n",
       "dtype: int64"
      ]
     },
     "execution_count": 23,
     "metadata": {},
     "output_type": "execute_result"
    }
   ],
   "source": [
    "metrics_data.isnull().sum(axis = 0)"
   ]
  },
  {
   "cell_type": "markdown",
   "metadata": {},
   "source": [
    "Remove Infinity values"
   ]
  },
  {
   "cell_type": "code",
   "execution_count": 31,
   "metadata": {},
   "outputs": [],
   "source": [
    "metrics_data = metrics_data[~metrics_data.isin([np.nan, np.inf, -np.inf]).any(1)]"
   ]
  },
  {
   "cell_type": "code",
   "execution_count": 32,
   "metadata": {},
   "outputs": [
    {
     "data": {
      "text/html": [
       "<div>\n",
       "<style scoped>\n",
       "    .dataframe tbody tr th:only-of-type {\n",
       "        vertical-align: middle;\n",
       "    }\n",
       "\n",
       "    .dataframe tbody tr th {\n",
       "        vertical-align: top;\n",
       "    }\n",
       "\n",
       "    .dataframe thead th {\n",
       "        text-align: right;\n",
       "    }\n",
       "</style>\n",
       "<table border=\"1\" class=\"dataframe\">\n",
       "  <thead>\n",
       "    <tr style=\"text-align: right;\">\n",
       "      <th></th>\n",
       "      <th>date</th>\n",
       "      <th>page_views</th>\n",
       "      <th>visits</th>\n",
       "      <th>unique_visitors</th>\n",
       "      <th>bounce_rate</th>\n",
       "    </tr>\n",
       "  </thead>\n",
       "  <tbody>\n",
       "    <tr>\n",
       "      <td>281</td>\n",
       "      <td>(2012,10,08)</td>\n",
       "      <td>1</td>\n",
       "      <td>1</td>\n",
       "      <td>1</td>\n",
       "      <td>1.000000</td>\n",
       "    </tr>\n",
       "    <tr>\n",
       "      <td>289</td>\n",
       "      <td>(2012,10,16)</td>\n",
       "      <td>4</td>\n",
       "      <td>3</td>\n",
       "      <td>1</td>\n",
       "      <td>0.666667</td>\n",
       "    </tr>\n",
       "    <tr>\n",
       "      <td>290</td>\n",
       "      <td>(2012,10,17)</td>\n",
       "      <td>32</td>\n",
       "      <td>11</td>\n",
       "      <td>9</td>\n",
       "      <td>0.272727</td>\n",
       "    </tr>\n",
       "    <tr>\n",
       "      <td>291</td>\n",
       "      <td>(2012,10,18)</td>\n",
       "      <td>550680</td>\n",
       "      <td>185607</td>\n",
       "      <td>181942</td>\n",
       "      <td>0.310538</td>\n",
       "    </tr>\n",
       "    <tr>\n",
       "      <td>292</td>\n",
       "      <td>(2012,10,19)</td>\n",
       "      <td>7384524</td>\n",
       "      <td>2522740</td>\n",
       "      <td>2366966</td>\n",
       "      <td>0.314636</td>\n",
       "    </tr>\n",
       "    <tr>\n",
       "      <td>...</td>\n",
       "      <td>...</td>\n",
       "      <td>...</td>\n",
       "      <td>...</td>\n",
       "      <td>...</td>\n",
       "      <td>...</td>\n",
       "    </tr>\n",
       "    <tr>\n",
       "      <td>726</td>\n",
       "      <td>(2013,12,27)</td>\n",
       "      <td>6328774</td>\n",
       "      <td>2395841</td>\n",
       "      <td>2256768</td>\n",
       "      <td>0.359512</td>\n",
       "    </tr>\n",
       "    <tr>\n",
       "      <td>727</td>\n",
       "      <td>(2013,12,28)</td>\n",
       "      <td>6189963</td>\n",
       "      <td>2333545</td>\n",
       "      <td>2194440</td>\n",
       "      <td>0.364722</td>\n",
       "    </tr>\n",
       "    <tr>\n",
       "      <td>728</td>\n",
       "      <td>(2013,12,29)</td>\n",
       "      <td>6183667</td>\n",
       "      <td>2313966</td>\n",
       "      <td>2176780</td>\n",
       "      <td>0.359718</td>\n",
       "    </tr>\n",
       "    <tr>\n",
       "      <td>729</td>\n",
       "      <td>(2013,12,30)</td>\n",
       "      <td>6469028</td>\n",
       "      <td>2441133</td>\n",
       "      <td>2300662</td>\n",
       "      <td>0.360552</td>\n",
       "    </tr>\n",
       "    <tr>\n",
       "      <td>730</td>\n",
       "      <td>(2013,12,31)</td>\n",
       "      <td>5523521</td>\n",
       "      <td>2069896</td>\n",
       "      <td>1950572</td>\n",
       "      <td>0.359725</td>\n",
       "    </tr>\n",
       "  </tbody>\n",
       "</table>\n",
       "<p>443 rows × 5 columns</p>\n",
       "</div>"
      ],
      "text/plain": [
       "             date  page_views   visits  unique_visitors  bounce_rate\n",
       "281  (2012,10,08)  1           1        1                1.000000   \n",
       "289  (2012,10,16)  4           3        1                0.666667   \n",
       "290  (2012,10,17)  32          11       9                0.272727   \n",
       "291  (2012,10,18)  550680      185607   181942           0.310538   \n",
       "292  (2012,10,19)  7384524     2522740  2366966          0.314636   \n",
       "..            ...      ...         ...      ...               ...   \n",
       "726  (2013,12,27)  6328774     2395841  2256768          0.359512   \n",
       "727  (2013,12,28)  6189963     2333545  2194440          0.364722   \n",
       "728  (2013,12,29)  6183667     2313966  2176780          0.359718   \n",
       "729  (2013,12,30)  6469028     2441133  2300662          0.360552   \n",
       "730  (2013,12,31)  5523521     2069896  1950572          0.359725   \n",
       "\n",
       "[443 rows x 5 columns]"
      ]
     },
     "execution_count": 32,
     "metadata": {},
     "output_type": "execute_result"
    }
   ],
   "source": [
    "metrics_data"
   ]
  },
  {
   "cell_type": "code",
   "execution_count": 5,
   "metadata": {},
   "outputs": [
    {
     "data": {
      "text/html": [
       "<div>\n",
       "<style scoped>\n",
       "    .dataframe tbody tr th:only-of-type {\n",
       "        vertical-align: middle;\n",
       "    }\n",
       "\n",
       "    .dataframe tbody tr th {\n",
       "        vertical-align: top;\n",
       "    }\n",
       "\n",
       "    .dataframe thead th {\n",
       "        text-align: right;\n",
       "    }\n",
       "</style>\n",
       "<table border=\"1\" class=\"dataframe\">\n",
       "  <thead>\n",
       "    <tr style=\"text-align: right;\">\n",
       "      <th></th>\n",
       "      <th>country</th>\n",
       "      <th>city</th>\n",
       "      <th>product_name</th>\n",
       "      <th>page_views</th>\n",
       "      <th>visits</th>\n",
       "    </tr>\n",
       "  </thead>\n",
       "  <tbody>\n",
       "    <tr>\n",
       "      <td>0</td>\n",
       "      <td>United States</td>\n",
       "      <td>los angeles (California, United States)</td>\n",
       "      <td>::unspecified::</td>\n",
       "      <td>4418</td>\n",
       "      <td>1924</td>\n",
       "    </tr>\n",
       "    <tr>\n",
       "      <td>1</td>\n",
       "      <td>United States</td>\n",
       "      <td>los angeles (California, United States)</td>\n",
       "      <td>AVG AntiVirus Free 2014</td>\n",
       "      <td>369</td>\n",
       "      <td>135</td>\n",
       "    </tr>\n",
       "    <tr>\n",
       "      <td>2</td>\n",
       "      <td>United States</td>\n",
       "      <td>los angeles (California, United States)</td>\n",
       "      <td>Avast Free Antivirus 2014</td>\n",
       "      <td>269</td>\n",
       "      <td>189</td>\n",
       "    </tr>\n",
       "    <tr>\n",
       "      <td>3</td>\n",
       "      <td>United States</td>\n",
       "      <td>los angeles (California, United States)</td>\n",
       "      <td>Advanced SystemCare</td>\n",
       "      <td>246</td>\n",
       "      <td>104</td>\n",
       "    </tr>\n",
       "    <tr>\n",
       "      <td>4</td>\n",
       "      <td>United States</td>\n",
       "      <td>los angeles (California, United States)</td>\n",
       "      <td>Free Mouse Auto Clicker</td>\n",
       "      <td>243</td>\n",
       "      <td>80</td>\n",
       "    </tr>\n",
       "  </tbody>\n",
       "</table>\n",
       "</div>"
      ],
      "text/plain": [
       "         country                                     city               product_name  page_views  visits\n",
       "0  United States  los angeles (California, United States)  ::unspecified::            4418        1924  \n",
       "1  United States  los angeles (California, United States)  AVG AntiVirus Free 2014    369         135   \n",
       "2  United States  los angeles (California, United States)  Avast Free Antivirus 2014  269         189   \n",
       "3  United States  los angeles (California, United States)  Advanced SystemCare        246         104   \n",
       "4  United States  los angeles (California, United States)  Free Mouse Auto Clicker    243         80    "
      ]
     },
     "execution_count": 5,
     "metadata": {},
     "output_type": "execute_result"
    }
   ],
   "source": [
    "products_data.head()"
   ]
  },
  {
   "cell_type": "markdown",
   "metadata": {},
   "source": [
    "Page Views and Visits by Countries"
   ]
  },
  {
   "cell_type": "code",
   "execution_count": 21,
   "metadata": {
    "scrolled": true
   },
   "outputs": [
    {
     "data": {
      "image/png": "[encoded data removed]",
      "text/plain": [
       "<Figure size 1296x576 with 2 Axes>"
      ]
     },
     "metadata": {
      "needs_background": "light"
     },
     "output_type": "display_data"
    }
   ],
   "source": [
    "f,ax=plt.subplots(1,2,figsize=(18,8))\n",
    "sal_coun=products_data.groupby('country')['page_views'].median().sort_values(ascending=False).to_frame()\n",
    "sns.barplot('page_views',sal_coun.index,data=sal_coun,palette='RdYlGn',ax=ax[0])\n",
    "ax[0].axvline(products_data['page_views'].median(),linestyle='dashed')\n",
    "ax[0].set_title('Page Views by Countries')\n",
    "\n",
    "max_coun=products_data.groupby('country')['visits'].median().to_frame()\n",
    "max_coun=max_coun[max_coun.index.isin(sal_coun.index)]\n",
    "max_coun.sort_values(by='visits',ascending=True).plot.barh(width=0.8,ax=ax[1],color=sns.color_palette('RdYlGn'))\n",
    "ax[1].axvline(products_data['visits'].median(),linestyle='dashed')\n",
    "ax[1].set_title('Visits by Countries')\n",
    "ax[1].set_xlabel('')\n",
    "ax[1].set_ylabel('')\n",
    "\n",
    "plt.subplots_adjust(wspace=0.8)\n",
    "plt.show()"
   ]
  },
  {
   "cell_type": "markdown",
   "metadata": {},
   "source": [
    "Bounce rate distribution"
   ]
  },
  {
   "cell_type": "code",
   "execution_count": 34,
   "metadata": {},
   "outputs": [
    {
     "data": {
      "image/png": "[encoded data removed]",
      "text/plain": [
       "<Figure size 432x288 with 1 Axes>"
      ]
     },
     "metadata": {
      "needs_background": "light"
     },
     "output_type": "display_data"
    }
   ],
   "source": [
    "#Histogram:\n",
    "plt.hist(metrics_data.bounce_rate, alpha=.3)\n",
    "sns.rugplot(metrics_data.bounce_rate);"
   ]
  }
 ],
 "metadata": {
  "kernelspec": {
   "display_name": "Python 3",
   "language": "python",
   "name": "python3"
  },
  "language_info": {
   "codemirror_mode": {
    "name": "ipython",
    "version": 3
   },
   "file_extension": ".py",
   "mimetype": "text/x-python",
   "name": "python",
   "nbconvert_exporter": "python",
   "pygments_lexer": "ipython3",
   "version": "3.7.4"
  }
 },
 "nbformat": 4,
 "nbformat_minor": 2
}
